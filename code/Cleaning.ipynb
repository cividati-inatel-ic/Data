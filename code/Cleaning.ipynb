{
 "cells": [
  {
   "cell_type": "markdown",
   "metadata": {},
   "source": [
    "### Libraries "
   ]
  },
  {
   "cell_type": "code",
   "execution_count": 1,
   "metadata": {},
   "outputs": [],
   "source": [
    "import sqlite3\n",
    "import pandas as pd\n",
    "import numpy as np\n",
    "import matplotlib.pyplot as plt\n",
    "\n",
    "connection = sqlite3.connect('../data/database.db')\n",
    "\n",
    "df_wowtoken = pd.read_sql_query(\"SELECT * FROM wowtoken WHERE date!=''\", connection)\n",
    "df_currency = pd.read_sql_query(\"SELECT * FROM currency WHERE date!=''\", connection)\n",
    "\n",
    "connection.close()"
   ]
  },
  {
   "cell_type": "markdown",
   "metadata": {},
   "source": [
    "Removing unuseful columns"
   ]
  },
  {
   "cell_type": "code",
   "execution_count": 2,
   "metadata": {},
   "outputs": [],
   "source": [
    "df_wowtoken = df_wowtoken.drop([\"id\", \"index\"], axis=1)\n",
    "df_currency = df_currency.drop([\"id\",'index'], axis=1)"
   ]
  },
  {
   "cell_type": "markdown",
   "metadata": {},
   "source": [
    "### Raw currency dataframe"
   ]
  },
  {
   "cell_type": "code",
   "execution_count": 3,
   "metadata": {
    "scrolled": true
   },
   "outputs": [
    {
     "data": {
      "text/html": [
       "<div>\n",
       "<style scoped>\n",
       "    .dataframe tbody tr th:only-of-type {\n",
       "        vertical-align: middle;\n",
       "    }\n",
       "\n",
       "    .dataframe tbody tr th {\n",
       "        vertical-align: top;\n",
       "    }\n",
       "\n",
       "    .dataframe thead th {\n",
       "        text-align: right;\n",
       "    }\n",
       "</style>\n",
       "<table border=\"1\" class=\"dataframe\">\n",
       "  <thead>\n",
       "    <tr style=\"text-align: right;\">\n",
       "      <th></th>\n",
       "      <th>date</th>\n",
       "      <th>time</th>\n",
       "      <th>Usd</th>\n",
       "      <th>Eur</th>\n",
       "      <th>Cny</th>\n",
       "      <th>Krw</th>\n",
       "      <th>Brl</th>\n",
       "    </tr>\n",
       "  </thead>\n",
       "  <tbody>\n",
       "    <tr>\n",
       "      <th>0</th>\n",
       "      <td>03/27/2019</td>\n",
       "      <td>14:40:02</td>\n",
       "      <td>1</td>\n",
       "      <td>0.885661146</td>\n",
       "      <td>6.7149056771</td>\n",
       "      <td>1134.4522185812</td>\n",
       "      <td>None</td>\n",
       "    </tr>\n",
       "    <tr>\n",
       "      <th>1</th>\n",
       "      <td>03/27/2019</td>\n",
       "      <td>15:00:01</td>\n",
       "      <td>1</td>\n",
       "      <td>0.885661146</td>\n",
       "      <td>6.7149056771</td>\n",
       "      <td>1134.4522185812</td>\n",
       "      <td>None</td>\n",
       "    </tr>\n",
       "    <tr>\n",
       "      <th>2</th>\n",
       "      <td>03/27/2019</td>\n",
       "      <td>15:20:02</td>\n",
       "      <td>1</td>\n",
       "      <td>0.8880206021</td>\n",
       "      <td>6.7248912175</td>\n",
       "      <td>1137.5543912619</td>\n",
       "      <td>None</td>\n",
       "    </tr>\n",
       "    <tr>\n",
       "      <th>3</th>\n",
       "      <td>03/27/2019</td>\n",
       "      <td>15:40:02</td>\n",
       "      <td>1</td>\n",
       "      <td>0.8880206021</td>\n",
       "      <td>6.7248912175</td>\n",
       "      <td>1137.5543912619</td>\n",
       "      <td>None</td>\n",
       "    </tr>\n",
       "    <tr>\n",
       "      <th>4</th>\n",
       "      <td>03/27/2019</td>\n",
       "      <td>16:00:02</td>\n",
       "      <td>1</td>\n",
       "      <td>0.8880206021</td>\n",
       "      <td>6.7248912175</td>\n",
       "      <td>1137.5543912619</td>\n",
       "      <td>None</td>\n",
       "    </tr>\n",
       "  </tbody>\n",
       "</table>\n",
       "</div>"
      ],
      "text/plain": [
       "         date      time Usd           Eur           Cny              Krw   Brl\n",
       "0  03/27/2019  14:40:02   1   0.885661146  6.7149056771  1134.4522185812  None\n",
       "1  03/27/2019  15:00:01   1   0.885661146  6.7149056771  1134.4522185812  None\n",
       "2  03/27/2019  15:20:02   1  0.8880206021  6.7248912175  1137.5543912619  None\n",
       "3  03/27/2019  15:40:02   1  0.8880206021  6.7248912175  1137.5543912619  None\n",
       "4  03/27/2019  16:00:02   1  0.8880206021  6.7248912175  1137.5543912619  None"
      ]
     },
     "execution_count": 3,
     "metadata": {},
     "output_type": "execute_result"
    }
   ],
   "source": [
    "df_currency.head()"
   ]
  },
  {
   "cell_type": "markdown",
   "metadata": {},
   "source": [
    "### Raw wowtoken dataframe"
   ]
  },
  {
   "cell_type": "code",
   "execution_count": 4,
   "metadata": {
    "scrolled": true
   },
   "outputs": [
    {
     "data": {
      "text/html": [
       "<div>\n",
       "<style scoped>\n",
       "    .dataframe tbody tr th:only-of-type {\n",
       "        vertical-align: middle;\n",
       "    }\n",
       "\n",
       "    .dataframe tbody tr th {\n",
       "        vertical-align: top;\n",
       "    }\n",
       "\n",
       "    .dataframe thead th {\n",
       "        text-align: right;\n",
       "    }\n",
       "</style>\n",
       "<table border=\"1\" class=\"dataframe\">\n",
       "  <thead>\n",
       "    <tr style=\"text-align: right;\">\n",
       "      <th></th>\n",
       "      <th>date</th>\n",
       "      <th>time</th>\n",
       "      <th>Us</th>\n",
       "      <th>Eu</th>\n",
       "      <th>Ch</th>\n",
       "      <th>Kr</th>\n",
       "      <th>Tw</th>\n",
       "    </tr>\n",
       "  </thead>\n",
       "  <tbody>\n",
       "    <tr>\n",
       "      <th>0</th>\n",
       "      <td>03/02/2019</td>\n",
       "      <td>14:00:01</td>\n",
       "      <td>111,249</td>\n",
       "      <td>159,930</td>\n",
       "      <td>184,765</td>\n",
       "      <td>242,896</td>\n",
       "      <td>263,267</td>\n",
       "    </tr>\n",
       "    <tr>\n",
       "      <th>1</th>\n",
       "      <td>03/02/2019</td>\n",
       "      <td>14:20:01</td>\n",
       "      <td>111,076</td>\n",
       "      <td>160,582</td>\n",
       "      <td>185,593</td>\n",
       "      <td>245,325</td>\n",
       "      <td>263,694</td>\n",
       "    </tr>\n",
       "    <tr>\n",
       "      <th>2</th>\n",
       "      <td>03/02/2019</td>\n",
       "      <td>14:40:01</td>\n",
       "      <td>111,096</td>\n",
       "      <td>160,815</td>\n",
       "      <td>186,028</td>\n",
       "      <td>247,778</td>\n",
       "      <td>263,088</td>\n",
       "    </tr>\n",
       "    <tr>\n",
       "      <th>3</th>\n",
       "      <td>03/02/2019</td>\n",
       "      <td>15:00:01</td>\n",
       "      <td>111,199</td>\n",
       "      <td>160,434</td>\n",
       "      <td>186,136</td>\n",
       "      <td>249,695</td>\n",
       "      <td>262,637</td>\n",
       "    </tr>\n",
       "    <tr>\n",
       "      <th>4</th>\n",
       "      <td>03/02/2019</td>\n",
       "      <td>15:20:01</td>\n",
       "      <td>111,234</td>\n",
       "      <td>160,014</td>\n",
       "      <td>186,335</td>\n",
       "      <td>250,066</td>\n",
       "      <td>262,494</td>\n",
       "    </tr>\n",
       "  </tbody>\n",
       "</table>\n",
       "</div>"
      ],
      "text/plain": [
       "         date      time       Us       Eu       Ch       Kr       Tw\n",
       "0  03/02/2019  14:00:01  111,249  159,930  184,765  242,896  263,267\n",
       "1  03/02/2019  14:20:01  111,076  160,582  185,593  245,325  263,694\n",
       "2  03/02/2019  14:40:01  111,096  160,815  186,028  247,778  263,088\n",
       "3  03/02/2019  15:00:01  111,199  160,434  186,136  249,695  262,637\n",
       "4  03/02/2019  15:20:01  111,234  160,014  186,335  250,066  262,494"
      ]
     },
     "execution_count": 4,
     "metadata": {},
     "output_type": "execute_result"
    }
   ],
   "source": [
    "df_wowtoken.head()"
   ]
  },
  {
   "cell_type": "markdown",
   "metadata": {},
   "source": [
    "## Cleaning wowtoken dataframe"
   ]
  },
  {
   "cell_type": "markdown",
   "metadata": {},
   "source": [
    "Replacing , with ."
   ]
  },
  {
   "cell_type": "code",
   "execution_count": 5,
   "metadata": {},
   "outputs": [],
   "source": [
    "df_wowtoken[\"Us\"] = df_wowtoken[\"Us\"].str.replace(\",\", \".\")\n",
    "df_wowtoken[\"Eu\"] = df_wowtoken[\"Eu\"].str.replace(\",\", \".\")\n",
    "df_wowtoken[\"Ch\"] = df_wowtoken[\"Ch\"].str.replace(\",\", \".\")\n",
    "df_wowtoken[\"Kr\"] = df_wowtoken[\"Kr\"].str.replace(\",\", \".\")\n",
    "df_wowtoken[\"Tw\"] = df_wowtoken[\"Tw\"].str.replace(\",\", \".\")"
   ]
  },
  {
   "cell_type": "markdown",
   "metadata": {},
   "source": [
    "Converting from str to np.float64"
   ]
  },
  {
   "cell_type": "code",
   "execution_count": 6,
   "metadata": {},
   "outputs": [],
   "source": [
    "df_wowtoken['Us'] = pd.to_numeric(df_wowtoken[\"Us\"])\n",
    "df_wowtoken['Eu'] = pd.to_numeric(df_wowtoken[\"Eu\"])\n",
    "df_wowtoken['Ch'] = pd.to_numeric(df_wowtoken[\"Ch\"])\n",
    "df_wowtoken['Kr'] = pd.to_numeric(df_wowtoken[\"Kr\"])\n",
    "df_wowtoken['Tw'] = pd.to_numeric(df_wowtoken[\"Tw\"])"
   ]
  },
  {
   "cell_type": "markdown",
   "metadata": {},
   "source": [
    "Converting date and time column to one column"
   ]
  },
  {
   "cell_type": "code",
   "execution_count": 7,
   "metadata": {},
   "outputs": [],
   "source": [
    "s1 = (df_wowtoken['date']+' - '+df_wowtoken['time'])\n",
    "\n",
    "#altering format\n",
    "s1 = pd.to_datetime(s1, infer_datetime_format=True) \n",
    "\n",
    "#removing columns\n",
    "df_wowtoken = df_wowtoken.drop(['date', 'time'], axis=1)\n",
    "\n",
    "# add new column\n",
    "df_wowtoken['date'] = s1\n",
    "\n",
    "#reordering colmuns\n",
    "df_wowtoken = df_wowtoken[['date','Us', 'Eu', 'Ch', 'Kr', 'Tw']]"
   ]
  },
  {
   "cell_type": "markdown",
   "metadata": {},
   "source": [
    "## Cleaning currency dataframe"
   ]
  },
  {
   "cell_type": "markdown",
   "metadata": {},
   "source": [
    "Filling NULL values in Brl Column"
   ]
  },
  {
   "cell_type": "code",
   "execution_count": 8,
   "metadata": {},
   "outputs": [],
   "source": [
    "# Copying the last value\n",
    "s1 = df_currency['Brl']\n",
    "# there is no data frmo 0 to 234\n",
    "# so I copy the last values\n",
    "s1[0:235] = s1[235]\n",
    "df_currency['Brl'] = s1"
   ]
  },
  {
   "cell_type": "markdown",
   "metadata": {},
   "source": [
    "Converting from str to np.float64"
   ]
  },
  {
   "cell_type": "code",
   "execution_count": 9,
   "metadata": {},
   "outputs": [],
   "source": [
    "df_currency['Usd'] = pd.to_numeric(df_currency['Usd'])\n",
    "df_currency['Eur'] = pd.to_numeric(df_currency['Eur'])\n",
    "df_currency['Cny'] = pd.to_numeric(df_currency['Cny'])\n",
    "df_currency['Krw'] = pd.to_numeric(df_currency['Krw'])\n",
    "df_currency['Brl'] = pd.to_numeric(df_currency['Brl'])"
   ]
  },
  {
   "cell_type": "markdown",
   "metadata": {},
   "source": [
    "Converting date and time column to one column"
   ]
  },
  {
   "cell_type": "code",
   "execution_count": 10,
   "metadata": {},
   "outputs": [],
   "source": [
    "s1 = (df_currency['date']+' - '+df_currency['time'])\n",
    "\n",
    "#altering format\n",
    "s1 = pd.to_datetime(s1, infer_datetime_format=True) \n",
    "\n",
    "#removing columns\n",
    "df_currency = df_currency.drop(['date', 'time'], axis=1)\n",
    "\n",
    "# add new column\n",
    "df_currency['date'] = s1\n",
    "\n",
    "#reordering colmuns\n",
    "df_currency = df_currency[['date','Usd', 'Eur', 'Cny', 'Krw', 'Brl']]"
   ]
  },
  {
   "cell_type": "markdown",
   "metadata": {},
   "source": [
    "### Putting wowtoken at the same level of rows of currency"
   ]
  },
  {
   "cell_type": "code",
   "execution_count": 11,
   "metadata": {
    "scrolled": true
   },
   "outputs": [],
   "source": [
    "diff = df_currency['date'][0] - df_wowtoken['date'][0]\n",
    "            # 72 rows / day + 3 rows/ hour\n",
    "registers = diff.days*72 + (int)(diff.seconds/60/20)\n",
    "df_wowtoken = df_wowtoken[registers-1:]\n",
    "\n",
    "# Reset index and drop new column\n",
    "df_wowtoken.reset_index(inplace=True)\n",
    "df_wowtoken.drop('index', axis=1, inplace=True)"
   ]
  },
  {
   "cell_type": "markdown",
   "metadata": {},
   "source": [
    "Filling NA values with interpolation"
   ]
  },
  {
   "cell_type": "code",
   "execution_count": 12,
   "metadata": {
    "scrolled": true
   },
   "outputs": [
    {
     "name": "stdout",
     "output_type": "stream",
     "text": [
      "NA values before interpolation: 301\n",
      "NA values after  interpolation: 0\n"
     ]
    }
   ],
   "source": [
    "print('NA values before interpolation:',len(df_wowtoken[df_wowtoken.isna().any(axis=1)]))\n",
    "df_wowtoken = df_wowtoken.interpolate()\n",
    "print('NA values after  interpolation:',len(df_wowtoken[df_wowtoken.isna().any(axis=1)]))"
   ]
  },
  {
   "cell_type": "markdown",
   "metadata": {},
   "source": [
    "### Sorting by day"
   ]
  },
  {
   "cell_type": "markdown",
   "metadata": {},
   "source": [
    "Wowtoken dataframe"
   ]
  },
  {
   "cell_type": "code",
   "execution_count": 13,
   "metadata": {},
   "outputs": [],
   "source": [
    "# Wowtoken\n",
    "df_d_wowtoken = df_wowtoken\n",
    "df_d_wowtoken = df_d_wowtoken.set_index('date').groupby(pd.Grouper(freq='d')).mean()"
   ]
  },
  {
   "cell_type": "markdown",
   "metadata": {},
   "source": [
    "Currency dataframe"
   ]
  },
  {
   "cell_type": "code",
   "execution_count": 14,
   "metadata": {},
   "outputs": [],
   "source": [
    "df_d_currency = df_currency\n",
    "df_d_currency = df_d_currency.set_index('date').groupby(pd.Grouper(freq='d')).mean()"
   ]
  },
  {
   "cell_type": "markdown",
   "metadata": {},
   "source": [
    "### Interpoling missing days"
   ]
  },
  {
   "cell_type": "markdown",
   "metadata": {},
   "source": [
    "Wowtoken dataframe"
   ]
  },
  {
   "cell_type": "code",
   "execution_count": 15,
   "metadata": {},
   "outputs": [
    {
     "name": "stdout",
     "output_type": "stream",
     "text": [
      "missing days before interpolation: 5\n",
      "missing days after  interpolation: 0\n"
     ]
    }
   ],
   "source": [
    "print('missing days before interpolation:',len(df_d_currency[df_d_currency.isna().any(axis=1)])) # - > missing 5 values\n",
    "df_d_currency = df_d_currency.interpolate()\n",
    "df_d_currency[df_d_currency.isna().any(axis=1)]\n",
    "print('missing days after  interpolation:', len(df_d_currency[df_d_currency.isna().any(axis=1)]))"
   ]
  },
  {
   "cell_type": "markdown",
   "metadata": {},
   "source": [
    "Currency dataframe"
   ]
  },
  {
   "cell_type": "code",
   "execution_count": 16,
   "metadata": {},
   "outputs": [
    {
     "name": "stdout",
     "output_type": "stream",
     "text": [
      "missing days before interpolation: 1\n",
      "missing days after  interpolation: 0\n"
     ]
    }
   ],
   "source": [
    "print('missing days before interpolation:',len(df_d_wowtoken[df_d_wowtoken.isna().any(axis=1)])) # - > missing 1 value\n",
    "df_d_wowtoken = df_d_wowtoken.interpolate()\n",
    "print('missing days after  interpolation:',len(df_d_wowtoken[df_d_wowtoken.isna().any(axis=1)]))"
   ]
  },
  {
   "cell_type": "markdown",
   "metadata": {},
   "source": [
    "## Wowtoken plotting and analysing"
   ]
  },
  {
   "cell_type": "code",
   "execution_count": 17,
   "metadata": {
    "scrolled": false
   },
   "outputs": [
    {
     "data": {
      "image/png": "[encoded data removed]",
      "text/plain": [
       "<Figure size 432x288 with 1 Axes>"
      ]
     },
     "metadata": {
      "needs_background": "light"
     },
     "output_type": "display_data"
    },
    {
     "data": {
      "text/html": [
       "<div>\n",
       "<style scoped>\n",
       "    .dataframe tbody tr th:only-of-type {\n",
       "        vertical-align: middle;\n",
       "    }\n",
       "\n",
       "    .dataframe tbody tr th {\n",
       "        vertical-align: top;\n",
       "    }\n",
       "\n",
       "    .dataframe thead th {\n",
       "        text-align: right;\n",
       "    }\n",
       "</style>\n",
       "<table border=\"1\" class=\"dataframe\">\n",
       "  <thead>\n",
       "    <tr style=\"text-align: right;\">\n",
       "      <th></th>\n",
       "      <th>Us</th>\n",
       "      <th>Eu</th>\n",
       "      <th>Ch</th>\n",
       "      <th>Kr</th>\n",
       "      <th>Tw</th>\n",
       "    </tr>\n",
       "    <tr>\n",
       "      <th>date</th>\n",
       "      <th></th>\n",
       "      <th></th>\n",
       "      <th></th>\n",
       "      <th></th>\n",
       "      <th></th>\n",
       "    </tr>\n",
       "  </thead>\n",
       "  <tbody>\n",
       "    <tr>\n",
       "      <th>2019-03-27</th>\n",
       "      <td>117.716913</td>\n",
       "      <td>178.372000</td>\n",
       "      <td>183.634870</td>\n",
       "      <td>222.632652</td>\n",
       "      <td>262.916609</td>\n",
       "    </tr>\n",
       "    <tr>\n",
       "      <th>2019-03-28</th>\n",
       "      <td>119.781986</td>\n",
       "      <td>177.239833</td>\n",
       "      <td>184.494875</td>\n",
       "      <td>247.775375</td>\n",
       "      <td>261.045806</td>\n",
       "    </tr>\n",
       "    <tr>\n",
       "      <th>2019-03-29</th>\n",
       "      <td>119.032681</td>\n",
       "      <td>175.309681</td>\n",
       "      <td>184.582653</td>\n",
       "      <td>244.074500</td>\n",
       "      <td>261.931611</td>\n",
       "    </tr>\n",
       "    <tr>\n",
       "      <th>2019-03-30</th>\n",
       "      <td>117.304958</td>\n",
       "      <td>172.900931</td>\n",
       "      <td>184.159403</td>\n",
       "      <td>237.340778</td>\n",
       "      <td>259.566597</td>\n",
       "    </tr>\n",
       "    <tr>\n",
       "      <th>2019-03-31</th>\n",
       "      <td>118.476528</td>\n",
       "      <td>174.331931</td>\n",
       "      <td>183.859097</td>\n",
       "      <td>232.301375</td>\n",
       "      <td>259.887569</td>\n",
       "    </tr>\n",
       "    <tr>\n",
       "      <th>...</th>\n",
       "      <td>...</td>\n",
       "      <td>...</td>\n",
       "      <td>...</td>\n",
       "      <td>...</td>\n",
       "      <td>...</td>\n",
       "    </tr>\n",
       "    <tr>\n",
       "      <th>2020-08-11</th>\n",
       "      <td>121.016458</td>\n",
       "      <td>180.129792</td>\n",
       "      <td>347.588667</td>\n",
       "      <td>209.921792</td>\n",
       "      <td>207.475125</td>\n",
       "    </tr>\n",
       "    <tr>\n",
       "      <th>2020-08-12</th>\n",
       "      <td>120.911542</td>\n",
       "      <td>178.567750</td>\n",
       "      <td>337.963917</td>\n",
       "      <td>210.931000</td>\n",
       "      <td>210.661236</td>\n",
       "    </tr>\n",
       "    <tr>\n",
       "      <th>2020-08-13</th>\n",
       "      <td>120.324611</td>\n",
       "      <td>178.170069</td>\n",
       "      <td>340.258875</td>\n",
       "      <td>208.436500</td>\n",
       "      <td>210.126944</td>\n",
       "    </tr>\n",
       "    <tr>\n",
       "      <th>2020-08-14</th>\n",
       "      <td>119.872472</td>\n",
       "      <td>177.938167</td>\n",
       "      <td>340.139708</td>\n",
       "      <td>209.809569</td>\n",
       "      <td>210.506750</td>\n",
       "    </tr>\n",
       "    <tr>\n",
       "      <th>2020-08-15</th>\n",
       "      <td>120.357932</td>\n",
       "      <td>178.013727</td>\n",
       "      <td>334.356477</td>\n",
       "      <td>219.662432</td>\n",
       "      <td>212.831409</td>\n",
       "    </tr>\n",
       "  </tbody>\n",
       "</table>\n",
       "<p>508 rows × 5 columns</p>\n",
       "</div>"
      ],
      "text/plain": [
       "                    Us          Eu          Ch          Kr          Tw\n",
       "date                                                                  \n",
       "2019-03-27  117.716913  178.372000  183.634870  222.632652  262.916609\n",
       "2019-03-28  119.781986  177.239833  184.494875  247.775375  261.045806\n",
       "2019-03-29  119.032681  175.309681  184.582653  244.074500  261.931611\n",
       "2019-03-30  117.304958  172.900931  184.159403  237.340778  259.566597\n",
       "2019-03-31  118.476528  174.331931  183.859097  232.301375  259.887569\n",
       "...                ...         ...         ...         ...         ...\n",
       "2020-08-11  121.016458  180.129792  347.588667  209.921792  207.475125\n",
       "2020-08-12  120.911542  178.567750  337.963917  210.931000  210.661236\n",
       "2020-08-13  120.324611  178.170069  340.258875  208.436500  210.126944\n",
       "2020-08-14  119.872472  177.938167  340.139708  209.809569  210.506750\n",
       "2020-08-15  120.357932  178.013727  334.356477  219.662432  212.831409\n",
       "\n",
       "[508 rows x 5 columns]"
      ]
     },
     "execution_count": 17,
     "metadata": {},
     "output_type": "execute_result"
    }
   ],
   "source": [
    "plt.plot(df_d_wowtoken['Eu'])\n",
    "plt.grid(True)\n",
    "plt.show()\n",
    "df_d_wowtoken"
   ]
  },
  {
   "cell_type": "markdown",
   "metadata": {},
   "source": [
    "## Currency plotting and analysing"
   ]
  },
  {
   "cell_type": "code",
   "execution_count": 18,
   "metadata": {},
   "outputs": [
    {
     "data": {
      "image/png": "[encoded data removed]",
      "text/plain": [
       "<Figure size 432x288 with 1 Axes>"
      ]
     },
     "metadata": {
      "needs_background": "light"
     },
     "output_type": "display_data"
    },
    {
     "data": {
      "text/html": [
       "<div>\n",
       "<style scoped>\n",
       "    .dataframe tbody tr th:only-of-type {\n",
       "        vertical-align: middle;\n",
       "    }\n",
       "\n",
       "    .dataframe tbody tr th {\n",
       "        vertical-align: top;\n",
       "    }\n",
       "\n",
       "    .dataframe thead th {\n",
       "        text-align: right;\n",
       "    }\n",
       "</style>\n",
       "<table border=\"1\" class=\"dataframe\">\n",
       "  <thead>\n",
       "    <tr style=\"text-align: right;\">\n",
       "      <th></th>\n",
       "      <th>Usd</th>\n",
       "      <th>Eur</th>\n",
       "      <th>Cny</th>\n",
       "      <th>Krw</th>\n",
       "      <th>Brl</th>\n",
       "    </tr>\n",
       "    <tr>\n",
       "      <th>date</th>\n",
       "      <th></th>\n",
       "      <th></th>\n",
       "      <th></th>\n",
       "      <th></th>\n",
       "      <th></th>\n",
       "    </tr>\n",
       "  </thead>\n",
       "  <tbody>\n",
       "    <tr>\n",
       "      <th>2019-03-27</th>\n",
       "      <td>1.0</td>\n",
       "      <td>0.887852</td>\n",
       "      <td>6.724178</td>\n",
       "      <td>1137.332807</td>\n",
       "      <td>3.904317</td>\n",
       "    </tr>\n",
       "    <tr>\n",
       "      <th>2019-03-28</th>\n",
       "      <td>1.0</td>\n",
       "      <td>0.889108</td>\n",
       "      <td>6.729310</td>\n",
       "      <td>1138.067383</td>\n",
       "      <td>3.904317</td>\n",
       "    </tr>\n",
       "    <tr>\n",
       "      <th>2019-03-29</th>\n",
       "      <td>1.0</td>\n",
       "      <td>0.890975</td>\n",
       "      <td>6.729450</td>\n",
       "      <td>1138.155510</td>\n",
       "      <td>3.904317</td>\n",
       "    </tr>\n",
       "    <tr>\n",
       "      <th>2019-03-30</th>\n",
       "      <td>1.0</td>\n",
       "      <td>0.890076</td>\n",
       "      <td>6.710903</td>\n",
       "      <td>1136.145972</td>\n",
       "      <td>3.904317</td>\n",
       "    </tr>\n",
       "    <tr>\n",
       "      <th>2019-03-31</th>\n",
       "      <td>1.0</td>\n",
       "      <td>0.890076</td>\n",
       "      <td>6.710903</td>\n",
       "      <td>1136.145972</td>\n",
       "      <td>3.904317</td>\n",
       "    </tr>\n",
       "    <tr>\n",
       "      <th>...</th>\n",
       "      <td>...</td>\n",
       "      <td>...</td>\n",
       "      <td>...</td>\n",
       "      <td>...</td>\n",
       "      <td>...</td>\n",
       "    </tr>\n",
       "    <tr>\n",
       "      <th>2020-08-11</th>\n",
       "      <td>1.0</td>\n",
       "      <td>0.849622</td>\n",
       "      <td>6.962855</td>\n",
       "      <td>1185.576784</td>\n",
       "      <td>5.422771</td>\n",
       "    </tr>\n",
       "    <tr>\n",
       "      <th>2020-08-12</th>\n",
       "      <td>1.0</td>\n",
       "      <td>0.849005</td>\n",
       "      <td>6.946544</td>\n",
       "      <td>1183.375744</td>\n",
       "      <td>5.430292</td>\n",
       "    </tr>\n",
       "    <tr>\n",
       "      <th>2020-08-13</th>\n",
       "      <td>1.0</td>\n",
       "      <td>0.847876</td>\n",
       "      <td>6.945662</td>\n",
       "      <td>1184.502044</td>\n",
       "      <td>5.407417</td>\n",
       "    </tr>\n",
       "    <tr>\n",
       "      <th>2020-08-14</th>\n",
       "      <td>1.0</td>\n",
       "      <td>0.845631</td>\n",
       "      <td>6.947224</td>\n",
       "      <td>1185.725463</td>\n",
       "      <td>5.391741</td>\n",
       "    </tr>\n",
       "    <tr>\n",
       "      <th>2020-08-15</th>\n",
       "      <td>1.0</td>\n",
       "      <td>0.846525</td>\n",
       "      <td>6.949970</td>\n",
       "      <td>1186.921189</td>\n",
       "      <td>5.396597</td>\n",
       "    </tr>\n",
       "  </tbody>\n",
       "</table>\n",
       "<p>508 rows × 5 columns</p>\n",
       "</div>"
      ],
      "text/plain": [
       "            Usd       Eur       Cny          Krw       Brl\n",
       "date                                                      \n",
       "2019-03-27  1.0  0.887852  6.724178  1137.332807  3.904317\n",
       "2019-03-28  1.0  0.889108  6.729310  1138.067383  3.904317\n",
       "2019-03-29  1.0  0.890975  6.729450  1138.155510  3.904317\n",
       "2019-03-30  1.0  0.890076  6.710903  1136.145972  3.904317\n",
       "2019-03-31  1.0  0.890076  6.710903  1136.145972  3.904317\n",
       "...         ...       ...       ...          ...       ...\n",
       "2020-08-11  1.0  0.849622  6.962855  1185.576784  5.422771\n",
       "2020-08-12  1.0  0.849005  6.946544  1183.375744  5.430292\n",
       "2020-08-13  1.0  0.847876  6.945662  1184.502044  5.407417\n",
       "2020-08-14  1.0  0.845631  6.947224  1185.725463  5.391741\n",
       "2020-08-15  1.0  0.846525  6.949970  1186.921189  5.396597\n",
       "\n",
       "[508 rows x 5 columns]"
      ]
     },
     "execution_count": 18,
     "metadata": {},
     "output_type": "execute_result"
    }
   ],
   "source": [
    "plt.plot(df_d_currency['Eur'])\n",
    "plt.grid(True)\n",
    "plt.show()\n",
    "df_d_currency"
   ]
  },
  {
   "cell_type": "markdown",
   "metadata": {},
   "source": [
    "### Setup interval"
   ]
  },
  {
   "cell_type": "code",
   "execution_count": 19,
   "metadata": {},
   "outputs": [],
   "source": [
    "start = '2019-07-01'\n",
    "end   = '2020-06-30' \n",
    "\n",
    "df_f_currency = pd.DataFrame([\n",
    "    df_d_currency['Brl'][start:end],\n",
    "    df_d_currency['Eur'][start:end],\n",
    "    df_d_currency['Cny'][start:end],\n",
    "    df_d_currency['Krw'][start:end],\n",
    "    \n",
    "]).T\n",
    "\n",
    "df_f_wowtoken = pd.DataFrame([\n",
    "    df_d_wowtoken['Us'][start:end],\n",
    "    df_d_wowtoken['Eu'][start:end],\n",
    "    df_d_wowtoken['Ch'][start:end],\n",
    "    df_d_wowtoken['Kr'][start:end],\n",
    "]).T"
   ]
  },
  {
   "cell_type": "markdown",
   "metadata": {},
   "source": [
    "## New series (wowtoken / currency)"
   ]
  },
  {
   "cell_type": "code",
   "execution_count": 27,
   "metadata": {},
   "outputs": [],
   "source": [
    "s1 = df_f_currency['Brl'] * 20 / df_f_wowtoken['Us'] \n",
    "s2 = df_f_currency['Eur'] * 20 / df_f_wowtoken['Eu']\n",
    "s3 = df_f_currency['Cny'] * 20 / df_f_wowtoken['Ch']\n",
    "s4 = df_f_currency['Krw'] * 20 / df_f_wowtoken['Kr']\n",
    "\n",
    "df_f_gold = pd.DataFrame([s1, s2, s3, s4]).T\n",
    "\n",
    "df_f_gold.rename(columns={0:'America', 1:'Europe', 2:'China', 3:'Korea'}, inplace=True)"
   ]
  },
  {
   "cell_type": "code",
   "execution_count": 31,
   "metadata": {},
   "outputs": [
    {
     "data": {
      "image/png": "[encoded data removed]",
      "text/plain": [
       "<Figure size 432x288 with 1 Axes>"
      ]
     },
     "metadata": {
      "needs_background": "light"
     },
     "output_type": "display_data"
    },
    {
     "data": {
      "text/html": [
       "<div>\n",
       "<style scoped>\n",
       "    .dataframe tbody tr th:only-of-type {\n",
       "        vertical-align: middle;\n",
       "    }\n",
       "\n",
       "    .dataframe tbody tr th {\n",
       "        vertical-align: top;\n",
       "    }\n",
       "\n",
       "    .dataframe thead th {\n",
       "        text-align: right;\n",
       "    }\n",
       "</style>\n",
       "<table border=\"1\" class=\"dataframe\">\n",
       "  <thead>\n",
       "    <tr style=\"text-align: right;\">\n",
       "      <th></th>\n",
       "      <th>America</th>\n",
       "      <th>Europe</th>\n",
       "      <th>China</th>\n",
       "      <th>Korea</th>\n",
       "    </tr>\n",
       "    <tr>\n",
       "      <th>date</th>\n",
       "      <th></th>\n",
       "      <th></th>\n",
       "      <th></th>\n",
       "      <th></th>\n",
       "    </tr>\n",
       "  </thead>\n",
       "  <tbody>\n",
       "    <tr>\n",
       "      <th>2019-07-01</th>\n",
       "      <td>0.585229</td>\n",
       "      <td>0.096057</td>\n",
       "      <td>0.614860</td>\n",
       "      <td>84.890825</td>\n",
       "    </tr>\n",
       "    <tr>\n",
       "      <th>2019-07-02</th>\n",
       "      <td>0.581120</td>\n",
       "      <td>0.096487</td>\n",
       "      <td>0.607401</td>\n",
       "      <td>83.669206</td>\n",
       "    </tr>\n",
       "    <tr>\n",
       "      <th>2019-07-03</th>\n",
       "      <td>0.583999</td>\n",
       "      <td>0.096999</td>\n",
       "      <td>0.610542</td>\n",
       "      <td>84.453058</td>\n",
       "    </tr>\n",
       "    <tr>\n",
       "      <th>2019-07-04</th>\n",
       "      <td>0.590166</td>\n",
       "      <td>0.096963</td>\n",
       "      <td>0.614632</td>\n",
       "      <td>83.145563</td>\n",
       "    </tr>\n",
       "    <tr>\n",
       "      <th>2019-07-05</th>\n",
       "      <td>0.584652</td>\n",
       "      <td>0.097126</td>\n",
       "      <td>0.618509</td>\n",
       "      <td>82.478919</td>\n",
       "    </tr>\n",
       "    <tr>\n",
       "      <th>...</th>\n",
       "      <td>...</td>\n",
       "      <td>...</td>\n",
       "      <td>...</td>\n",
       "      <td>...</td>\n",
       "    </tr>\n",
       "    <tr>\n",
       "      <th>2020-06-26</th>\n",
       "      <td>0.902758</td>\n",
       "      <td>0.104583</td>\n",
       "      <td>0.357101</td>\n",
       "      <td>121.736471</td>\n",
       "    </tr>\n",
       "    <tr>\n",
       "      <th>2020-06-27</th>\n",
       "      <td>0.918988</td>\n",
       "      <td>0.104547</td>\n",
       "      <td>0.356838</td>\n",
       "      <td>121.446946</td>\n",
       "    </tr>\n",
       "    <tr>\n",
       "      <th>2020-06-28</th>\n",
       "      <td>0.912135</td>\n",
       "      <td>0.104560</td>\n",
       "      <td>0.355401</td>\n",
       "      <td>124.598303</td>\n",
       "    </tr>\n",
       "    <tr>\n",
       "      <th>2020-06-29</th>\n",
       "      <td>0.908765</td>\n",
       "      <td>0.104002</td>\n",
       "      <td>0.351636</td>\n",
       "      <td>122.980252</td>\n",
       "    </tr>\n",
       "    <tr>\n",
       "      <th>2020-06-30</th>\n",
       "      <td>0.910510</td>\n",
       "      <td>0.103218</td>\n",
       "      <td>0.353666</td>\n",
       "      <td>124.602641</td>\n",
       "    </tr>\n",
       "  </tbody>\n",
       "</table>\n",
       "<p>366 rows × 4 columns</p>\n",
       "</div>"
      ],
      "text/plain": [
       "             America    Europe     China       Korea\n",
       "date                                                \n",
       "2019-07-01  0.585229  0.096057  0.614860   84.890825\n",
       "2019-07-02  0.581120  0.096487  0.607401   83.669206\n",
       "2019-07-03  0.583999  0.096999  0.610542   84.453058\n",
       "2019-07-04  0.590166  0.096963  0.614632   83.145563\n",
       "2019-07-05  0.584652  0.097126  0.618509   82.478919\n",
       "...              ...       ...       ...         ...\n",
       "2020-06-26  0.902758  0.104583  0.357101  121.736471\n",
       "2020-06-27  0.918988  0.104547  0.356838  121.446946\n",
       "2020-06-28  0.912135  0.104560  0.355401  124.598303\n",
       "2020-06-29  0.908765  0.104002  0.351636  122.980252\n",
       "2020-06-30  0.910510  0.103218  0.353666  124.602641\n",
       "\n",
       "[366 rows x 4 columns]"
      ]
     },
     "execution_count": 31,
     "metadata": {},
     "output_type": "execute_result"
    }
   ],
   "source": [
    "plt.plot(df_f_gold['America'])\n",
    "plt.grid(True)\n",
    "plt.show()\n",
    "df_f_gold"
   ]
  },
  {
   "cell_type": "markdown",
   "metadata": {},
   "source": [
    "### Saving as a csv file"
   ]
  },
  {
   "cell_type": "code",
   "execution_count": 33,
   "metadata": {},
   "outputs": [],
   "source": [
    "# Raw the data\n",
    "#df_wowtoken.to_csv('../data/raw_wowtoken.csv')\n",
    "#df_currency.to_csv('../data/raw_currency.csv')\n",
    "\n",
    "# Sorted by day\n",
    "df_f_gold.to_csv('../data/d_kilo_gold_price_in_currency.csv')\n",
    "df_f_wowtoken.to_csv('../data/d_wowtoken_price_in_gold.csv')\n",
    "df_f_currency.to_csv('../data/d_currency_price_in_dolar.csv')"
   ]
  }
 ],
 "metadata": {
  "kernelspec": {
   "display_name": "Python 3",
   "language": "python",
   "name": "python3"
  },
  "language_info": {
   "codemirror_mode": {
    "name": "ipython",
    "version": 3
   },
   "file_extension": ".py",
   "mimetype": "text/x-python",
   "name": "python",
   "nbconvert_exporter": "python",
   "pygments_lexer": "ipython3",
   "version": "3.8.5"
  }
 },
 "nbformat": 4,
 "nbformat_minor": 4
}
