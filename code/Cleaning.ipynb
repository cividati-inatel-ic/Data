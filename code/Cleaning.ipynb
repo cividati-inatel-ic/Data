{
 "cells": [
  {
   "cell_type": "markdown",
   "metadata": {},
   "source": [
    "### Libraries "
   ]
  },
  {
   "cell_type": "code",
   "execution_count": null,
   "metadata": {},
   "outputs": [],
   "source": [
    "import sqlite3\n",
    "import pandas as pd\n",
    "import numpy as np\n",
    "import matplotlib.pyplot as plt\n",
    "\n",
    "connection = sqlite3.connect('../data/database.db')\n",
    "\n",
    "df_wowtoken = pd.read_sql_query(\"SELECT * FROM wowtoken WHERE date!=''\", connection)\n",
    "df_currency = pd.read_sql_query(\"SELECT * FROM currency WHERE date!=''\", connection)\n",
    "\n",
    "connection.close()"
   ]
  },
  {
   "cell_type": "markdown",
   "metadata": {},
   "source": [
    "Removing unuseful columns"
   ]
  },
  {
   "cell_type": "code",
   "execution_count": null,
   "metadata": {},
   "outputs": [],
   "source": [
    "df_wowtoken = df_wowtoken.drop([\"id\", \"index\"], axis=1)\n",
    "df_currency = df_currency.drop([\"id\",'index'], axis=1)"
   ]
  },
  {
   "cell_type": "markdown",
   "metadata": {},
   "source": [
    "### Raw currency dataframe"
   ]
  },
  {
   "cell_type": "code",
   "execution_count": null,
   "metadata": {
    "scrolled": true
   },
   "outputs": [],
   "source": [
    "df_currency.head()"
   ]
  },
  {
   "cell_type": "markdown",
   "metadata": {},
   "source": [
    "### Raw wowtoken dataframe"
   ]
  },
  {
   "cell_type": "code",
   "execution_count": null,
   "metadata": {
    "scrolled": true
   },
   "outputs": [],
   "source": [
    "df_wowtoken.head()"
   ]
  },
  {
   "cell_type": "markdown",
   "metadata": {},
   "source": [
    "## Cleaning wowtoken dataframe"
   ]
  },
  {
   "cell_type": "markdown",
   "metadata": {},
   "source": [
    "Replacing , with ."
   ]
  },
  {
   "cell_type": "code",
   "execution_count": null,
   "metadata": {},
   "outputs": [],
   "source": [
    "df_wowtoken[\"Us\"] = df_wowtoken[\"Us\"].str.replace(\",\", \".\")\n",
    "df_wowtoken[\"Eu\"] = df_wowtoken[\"Eu\"].str.replace(\",\", \".\")\n",
    "df_wowtoken[\"Ch\"] = df_wowtoken[\"Ch\"].str.replace(\",\", \".\")\n",
    "df_wowtoken[\"Kr\"] = df_wowtoken[\"Kr\"].str.replace(\",\", \".\")\n",
    "df_wowtoken[\"Tw\"] = df_wowtoken[\"Tw\"].str.replace(\",\", \".\")"
   ]
  },
  {
   "cell_type": "markdown",
   "metadata": {},
   "source": [
    "Converting from str to np.float64"
   ]
  },
  {
   "cell_type": "code",
   "execution_count": null,
   "metadata": {},
   "outputs": [],
   "source": [
    "df_wowtoken['Us'] = pd.to_numeric(df_wowtoken[\"Us\"])\n",
    "df_wowtoken['Eu'] = pd.to_numeric(df_wowtoken[\"Eu\"])\n",
    "df_wowtoken['Ch'] = pd.to_numeric(df_wowtoken[\"Ch\"])\n",
    "df_wowtoken['Kr'] = pd.to_numeric(df_wowtoken[\"Kr\"])\n",
    "df_wowtoken['Tw'] = pd.to_numeric(df_wowtoken[\"Tw\"])"
   ]
  },
  {
   "cell_type": "markdown",
   "metadata": {},
   "source": [
    "Converting date and time column to one column"
   ]
  },
  {
   "cell_type": "code",
   "execution_count": null,
   "metadata": {},
   "outputs": [],
   "source": [
    "s1 = (df_wowtoken['date']+' - '+df_wowtoken['time'])\n",
    "\n",
    "#altering format\n",
    "s1 = pd.to_datetime(s1, infer_datetime_format=True) \n",
    "\n",
    "#removing columns\n",
    "df_wowtoken = df_wowtoken.drop(['date', 'time'], axis=1)\n",
    "\n",
    "# add new column\n",
    "df_wowtoken['date'] = s1\n",
    "\n",
    "#reordering colmuns\n",
    "df_wowtoken = df_wowtoken[['date','Us', 'Eu', 'Ch', 'Kr', 'Tw']]"
   ]
  },
  {
   "cell_type": "markdown",
   "metadata": {},
   "source": [
    "## Cleaning currency dataframe"
   ]
  },
  {
   "cell_type": "markdown",
   "metadata": {},
   "source": [
    "Filling NULL values in Brl Column"
   ]
  },
  {
   "cell_type": "code",
   "execution_count": null,
   "metadata": {},
   "outputs": [],
   "source": [
    "# Copying the last value\n",
    "s1 = df_currency['Brl']\n",
    "# there is no data frmo 0 to 234\n",
    "# so I copy the last values\n",
    "s1[0:235] = s1[235]\n",
    "df_currency['Brl'] = s1"
   ]
  },
  {
   "cell_type": "markdown",
   "metadata": {},
   "source": [
    "Converting from str to np.float64"
   ]
  },
  {
   "cell_type": "code",
   "execution_count": null,
   "metadata": {},
   "outputs": [],
   "source": [
    "df_currency['Usd'] = pd.to_numeric(df_currency['Usd'])\n",
    "df_currency['Eur'] = pd.to_numeric(df_currency['Eur'])\n",
    "df_currency['Cny'] = pd.to_numeric(df_currency['Cny'])\n",
    "df_currency['Krw'] = pd.to_numeric(df_currency['Krw'])\n",
    "df_currency['Brl'] = pd.to_numeric(df_currency['Brl'])"
   ]
  },
  {
   "cell_type": "markdown",
   "metadata": {},
   "source": [
    "Converting date and time column to one column"
   ]
  },
  {
   "cell_type": "code",
   "execution_count": null,
   "metadata": {},
   "outputs": [],
   "source": [
    "s1 = (df_currency['date']+' - '+df_currency['time'])\n",
    "\n",
    "#altering format\n",
    "s1 = pd.to_datetime(s1, infer_datetime_format=True) \n",
    "\n",
    "#removing columns\n",
    "df_currency = df_currency.drop(['date', 'time'], axis=1)\n",
    "\n",
    "# add new column\n",
    "df_currency['date'] = s1\n",
    "\n",
    "#reordering colmuns\n",
    "df_currency = df_currency[['date','Usd', 'Eur', 'Cny', 'Krw', 'Brl']]"
   ]
  },
  {
   "cell_type": "markdown",
   "metadata": {},
   "source": [
    "### Putting wowtoken at the same level of rows of currency"
   ]
  },
  {
   "cell_type": "code",
   "execution_count": null,
   "metadata": {
    "scrolled": true
   },
   "outputs": [],
   "source": [
    "diff = df_currency['date'][0] - df_wowtoken['date'][0]\n",
    "            # 72 rows / day + 3 rows/ hour\n",
    "registers = diff.days*72 + (int)(diff.seconds/60/20)\n",
    "df_wowtoken = df_wowtoken[registers-1:]\n",
    "\n",
    "# Reset index and drop new column\n",
    "df_wowtoken.reset_index(inplace=True)\n",
    "df_wowtoken.drop('index', axis=1, inplace=True)"
   ]
  },
  {
   "cell_type": "markdown",
   "metadata": {},
   "source": [
    "Filling NA values with interpolation"
   ]
  },
  {
   "cell_type": "code",
   "execution_count": null,
   "metadata": {
    "scrolled": true
   },
   "outputs": [],
   "source": [
    "print('NA values before interpolation:',len(df_wowtoken[df_wowtoken.isna().any(axis=1)]))\n",
    "df_wowtoken = df_wowtoken.interpolate()\n",
    "print('NA values after  interpolation:',len(df_wowtoken[df_wowtoken.isna().any(axis=1)]))"
   ]
  },
  {
   "cell_type": "markdown",
   "metadata": {},
   "source": [
    "### Sorting by day"
   ]
  },
  {
   "cell_type": "markdown",
   "metadata": {},
   "source": [
    "Wowtoken dataframe"
   ]
  },
  {
   "cell_type": "code",
   "execution_count": null,
   "metadata": {},
   "outputs": [],
   "source": [
    "# Wowtoken\n",
    "df_d_wowtoken = df_wowtoken\n",
    "df_d_wowtoken = df_d_wowtoken.set_index('date').groupby(pd.Grouper(freq='d')).mean()"
   ]
  },
  {
   "cell_type": "markdown",
   "metadata": {},
   "source": [
    "Currency dataframe"
   ]
  },
  {
   "cell_type": "code",
   "execution_count": null,
   "metadata": {},
   "outputs": [],
   "source": [
    "df_d_currency = df_currency\n",
    "df_d_currency = df_d_currency.set_index('date').groupby(pd.Grouper(freq='d')).mean()"
   ]
  },
  {
   "cell_type": "markdown",
   "metadata": {},
   "source": [
    "### Interpoling missing days"
   ]
  },
  {
   "cell_type": "markdown",
   "metadata": {},
   "source": [
    "Wowtoken dataframe"
   ]
  },
  {
   "cell_type": "code",
   "execution_count": null,
   "metadata": {},
   "outputs": [],
   "source": [
    "print('missing days before interpolation:',len(df_d_currency[df_d_currency.isna().any(axis=1)])) # - > missing 5 values\n",
    "df_d_currency = df_d_currency.interpolate()\n",
    "df_d_currency[df_d_currency.isna().any(axis=1)]\n",
    "print('missing days after  interpolation:', len(df_d_currency[df_d_currency.isna().any(axis=1)]))"
   ]
  },
  {
   "cell_type": "markdown",
   "metadata": {},
   "source": [
    "Currency dataframe"
   ]
  },
  {
   "cell_type": "code",
   "execution_count": null,
   "metadata": {},
   "outputs": [],
   "source": [
    "print('missing days before interpolation:',len(df_d_wowtoken[df_d_wowtoken.isna().any(axis=1)])) # - > missing 1 value\n",
    "df_d_wowtoken = df_d_wowtoken.interpolate()\n",
    "print('missing days after  interpolation:',len(df_d_wowtoken[df_d_wowtoken.isna().any(axis=1)]))"
   ]
  },
  {
   "cell_type": "markdown",
   "metadata": {},
   "source": [
    "## Wowtoken plotting and analysing"
   ]
  },
  {
   "cell_type": "code",
   "execution_count": null,
   "metadata": {
    "scrolled": false
   },
   "outputs": [],
   "source": [
    "plt.plot(df_d_wowtoken['Eu'])\n",
    "plt.grid(True)\n",
    "plt.show()\n",
    "df_d_wowtoken"
   ]
  },
  {
   "cell_type": "markdown",
   "metadata": {},
   "source": [
    "## Currency plotting and analysing"
   ]
  },
  {
   "cell_type": "code",
   "execution_count": null,
   "metadata": {},
   "outputs": [],
   "source": [
    "plt.plot(df_d_currency['Eur'])\n",
    "plt.grid(True)\n",
    "plt.show()\n",
    "df_d_currency"
   ]
  },
  {
   "cell_type": "markdown",
   "metadata": {},
   "source": [
    "### Saving as a csv file"
   ]
  },
  {
   "cell_type": "code",
   "execution_count": null,
   "metadata": {},
   "outputs": [],
   "source": [
    "# Raw the data\n",
    "df_wowtoken.to_csv('../data/raw_wowtoken.csv')\n",
    "df_currency.to_csv('../data/raw_currency.csv')\n",
    "\n",
    "# Sorted by day\n",
    "df_d_wowtoken.to_csv('../data/d_wowtoken.csv')\n",
    "df_d_currency.to_csv('../data/d_currency.csv')"
   ]
  }
 ],
 "metadata": {
  "kernelspec": {
   "display_name": "Python 3",
   "language": "python",
   "name": "python3"
  },
  "language_info": {
   "codemirror_mode": {
    "name": "ipython",
    "version": 3
   },
   "file_extension": ".py",
   "mimetype": "text/x-python",
   "name": "python",
   "nbconvert_exporter": "python",
   "pygments_lexer": "ipython3",
   "version": "3.8.5"
  }
 },
 "nbformat": 4,
 "nbformat_minor": 4
}
